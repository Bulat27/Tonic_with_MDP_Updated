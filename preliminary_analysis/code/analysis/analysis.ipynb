{
 "cells": [
  {
   "cell_type": "code",
   "execution_count": null,
   "id": "74534fa9",
   "metadata": {},
   "outputs": [],
   "source": [
    "import os\n",
    "import numpy as np\n",
    "import matplotlib.pyplot as plt"
   ]
  },
  {
   "cell_type": "code",
   "execution_count": null,
   "id": "1e2b970a",
   "metadata": {},
   "outputs": [],
   "source": [
    "def load_recall_matrix(base_output_folder):\n",
    "    \"\"\"\n",
    "    Loads the recall values from each run folder under base_output_folder\n",
    "    and returns a 2D NumPy array of shape (n_runs, n_snapshots).\n",
    "\n",
    "    Parameters:\n",
    "    - base_output_folder (str): Path to the folder containing run_* subfolders.\n",
    "\n",
    "    Returns:\n",
    "    - np.ndarray: A 2D array with shape (n_runs, n_snapshots)\n",
    "    \"\"\"\n",
    "    run_folders = sorted([\n",
    "        f for f in os.listdir(base_output_folder)\n",
    "        if os.path.isdir(os.path.join(base_output_folder, f)) and f.startswith(\"run_\")\n",
    "    ])\n",
    "\n",
    "    recall_matrix = []\n",
    "\n",
    "    for run_folder in run_folders:\n",
    "        path = os.path.join(base_output_folder, run_folder, \"recall_values.txt\")\n",
    "        recalls = []\n",
    "        with open(path, \"r\") as f:\n",
    "            for line in f:\n",
    "                parts = line.strip().split()\n",
    "                if len(parts) == 2:\n",
    "                    _, pr = parts\n",
    "                    recalls.append(float(pr))\n",
    "        recall_matrix.append(recalls)\n",
    "\n",
    "    return np.array(recall_matrix)"
   ]
  },
  {
   "cell_type": "code",
   "execution_count": null,
   "id": "f8b1490f",
   "metadata": {},
   "outputs": [],
   "source": [
    "def run_analysis_over_c(base_dir, c_values, analysis_fn):\n",
    "    \"\"\"\n",
    "    Runs a given analysis function over multiple values of c.\n",
    "\n",
    "    Parameters:\n",
    "    - base_dir (str): Path to the folder containing 'c{value}' subfolders.\n",
    "    - c_values (list of int): Values of c to iterate over.\n",
    "    - analysis_fn (function): A function that takes a recall matrix as input and prints or returns analysis results.\n",
    "    \"\"\"\n",
    "    for c in c_values:\n",
    "        print(f\"\\n=== Results for c = {c} ===\")\n",
    "        folder = os.path.join(base_dir, f\"c{c}\")\n",
    "        recall_matrix = load_recall_matrix(folder)\n",
    "        analysis_fn(recall_matrix)\n"
   ]
  },
  {
   "cell_type": "code",
   "execution_count": null,
   "id": "67e3cc98",
   "metadata": {},
   "outputs": [],
   "source": [
    "def analyze_recall_matrix(recall_matrix):\n",
    "    \"\"\"\n",
    "    Analyzes the recall matrix by computing:\n",
    "    - Average recall across snapshots for each run\n",
    "    - Mean, sample standard deviation, and sample variance of these averages across runs\n",
    "\n",
    "    Parameters:\n",
    "    - recall_matrix (np.ndarray): A 2D array of shape (n_runs, n_snapshots)\n",
    "\n",
    "    Prints:\n",
    "    - Mean of average recalls across runs\n",
    "    - Sample standard deviation of average recalls across runs\n",
    "    - Sample variance of average recalls across runs\n",
    "    \"\"\"\n",
    "    per_run_avg = recall_matrix.mean(axis=1)\n",
    "    mean_of_avgs = per_run_avg.mean()\n",
    "    # We are normalizing by (n-1) instead of n. Is this what we should do in our case?\n",
    "    std_of_avgs = per_run_avg.std(ddof=1)\n",
    "    var_of_avgs = per_run_avg.var(ddof=1)\n",
    "\n",
    "    print(f\"Mean of per-run average recalls: {mean_of_avgs:.6f}\")\n",
    "    print(f\"Sample standard deviation:            {std_of_avgs:.6f}\")\n",
    "    print(f\"Sample variance:                      {var_of_avgs:.6f}\")"
   ]
  },
  {
   "cell_type": "code",
   "execution_count": null,
   "id": "8eb509dc",
   "metadata": {},
   "outputs": [],
   "source": [
    "def analyze_recall_matrix_by_snapshot(recall_matrix):\n",
    "    \"\"\"\n",
    "    Analyzes the recall matrix snapshot-wise:\n",
    "    - For each snapshot, computes mean, sample std, and sample var across runs\n",
    "    - Averages those statistics across all snapshots\n",
    "\n",
    "    Parameters:\n",
    "    - recall_matrix (np.ndarray): Shape (n_runs, n_snapshots)\n",
    "\n",
    "    Prints:\n",
    "    - Average mean recall across snapshots\n",
    "    - Average sample std across snapshots\n",
    "    - Average sample var across snapshots\n",
    "    \"\"\"\n",
    "    snapshot_means = recall_matrix.mean(axis=0)\n",
    "    snapshot_stds = recall_matrix.std(axis=0, ddof=1)\n",
    "    snapshot_vars = recall_matrix.var(axis=0, ddof=1)\n",
    "\n",
    "    mean_of_snapshot_means = snapshot_means.mean()\n",
    "    mean_of_snapshot_stds = snapshot_stds.mean()\n",
    "    mean_of_snapshot_vars = snapshot_vars.mean()\n",
    "\n",
    "    print(f\"Mean of snapshot means:             {mean_of_snapshot_means:.6f}\")\n",
    "    print(f\"Mean of snapshot sample stds:       {mean_of_snapshot_stds:.6f}\")\n",
    "    print(f\"Mean of snapshot sample variances:  {mean_of_snapshot_vars:.6f}\")\n"
   ]
  },
  {
   "cell_type": "code",
   "execution_count": null,
   "id": "6fe5aceb",
   "metadata": {},
   "outputs": [],
   "source": [
    "def plot_snapshot_recall_from_folder(folder_path, label=None, color=None, marker='o'):\n",
    "    \"\"\"\n",
    "    Loads recall matrix from a given folder and plots mean ± std with markers at each snapshot.\n",
    "\n",
    "    Parameters:\n",
    "    - folder_path (str): Path to folder (e.g., .../c1)\n",
    "    - label (str): Label for plot legend\n",
    "    - color (str): Optional matplotlib color\n",
    "    - marker (str): Marker style for data points (e.g., 'o', '^', 's', 'x')\n",
    "    \"\"\"\n",
    "    recall_matrix = load_recall_matrix(folder_path)\n",
    "\n",
    "    snapshot_means = recall_matrix.mean(axis=0)\n",
    "    snapshot_stds = recall_matrix.std(axis=0, ddof=1)\n",
    "    snapshots = np.arange(len(snapshot_means))\n",
    "\n",
    "    # Line + markers\n",
    "    plt.plot(snapshots, snapshot_means, label=label, color=color, marker=marker, markersize=4, linewidth=1.5)\n",
    "    \n",
    "    # Shaded region = mean ± std\n",
    "    plt.fill_between(snapshots,\n",
    "                     snapshot_means - snapshot_stds,\n",
    "                     snapshot_means + snapshot_stds,\n",
    "                     alpha=0.3,\n",
    "                     color=color)\n",
    "\n",
    "    plt.xlabel(\"Snapshot Index\")\n",
    "    plt.ylabel(\"recall @ n̄\")\n",
    "    plt.title(\"Per-Snapshot recall with Std Dev\")\n",
    "    plt.grid(True)"
   ]
  },
  {
   "cell_type": "markdown",
   "id": "81f5ffcd",
   "metadata": {},
   "source": [
    "# Average over runs first\n"
   ]
  },
  {
   "cell_type": "code",
   "execution_count": null,
   "id": "34519b50",
   "metadata": {},
   "outputs": [],
   "source": [
    "base_dir = \"/home/nikolabulat/Snapshot_Update/Tonic/preliminary_analysis/outputs/as_caida_122_uss_50_trials_cpp\"\n",
    "run_analysis_over_c(base_dir, [1, 2, 3], analyze_recall_matrix)"
   ]
  },
  {
   "cell_type": "code",
   "execution_count": null,
   "id": "f5b96abc",
   "metadata": {},
   "outputs": [],
   "source": [
    "base_dir = \"/home/nikolabulat/Snapshot_Update/Tonic/preliminary_analysis/outputs/as_733_uss_50_trials_cpp\"\n",
    "run_analysis_over_c(base_dir, [1, 2, 3], analyze_recall_matrix)"
   ]
  },
  {
   "cell_type": "markdown",
   "id": "fa683b89",
   "metadata": {},
   "source": [
    "# Average over snapshots first (fine-grained)"
   ]
  },
  {
   "cell_type": "code",
   "execution_count": null,
   "id": "82c9828f",
   "metadata": {},
   "outputs": [],
   "source": [
    "base_dir = \"/home/nikolabulat/Snapshot_Update/Tonic/preliminary_analysis/outputs/as_caida_122_uss_50_trials_cpp\"\n",
    "run_analysis_over_c(base_dir, [1, 2, 3], analyze_recall_matrix_by_snapshot)"
   ]
  },
  {
   "cell_type": "code",
   "execution_count": null,
   "id": "0ea8647e",
   "metadata": {},
   "outputs": [],
   "source": [
    "base_dir = \"/home/nikolabulat/Snapshot_Update/Tonic/preliminary_analysis/outputs/as_733_uss_50_trials_cpp\"\n",
    "run_analysis_over_c(base_dir, [1, 2, 3], analyze_recall_matrix_by_snapshot)"
   ]
  },
  {
   "cell_type": "markdown",
   "id": "ac1e5ac4",
   "metadata": {},
   "source": [
    "# Plotting the fine-grained analysis"
   ]
  },
  {
   "cell_type": "code",
   "execution_count": null,
   "id": "6111deba",
   "metadata": {},
   "outputs": [],
   "source": [
    "base_dir = \"/home/nikolabulat/Snapshot_Update/Tonic/preliminary_analysis/outputs/as_caida_122_uss_50_trials_cpp\"\n",
    "colors = ['blue', 'green', 'orange']\n",
    "markers = ['o', '^', 's']\n",
    "\n",
    "plt.figure(figsize=(10, 5))\n",
    "for c, color, marker in zip([1, 2, 3], colors, markers):\n",
    "    folder = os.path.join(base_dir, f\"c{c}\")\n",
    "    plot_snapshot_recall_from_folder(folder, label=f\"c = {c}\", color=color, marker=marker)\n",
    "\n",
    "plt.legend()\n",
    "plt.tight_layout()\n",
    "plt.show()"
   ]
  },
  {
   "cell_type": "code",
   "execution_count": null,
   "id": "bad042a9",
   "metadata": {},
   "outputs": [],
   "source": [
    "base_dir = \"/home/nikolabulat/Snapshot_Update/Tonic/preliminary_analysis/outputs/as_733_uss_50_trials_cpp\"\n",
    "colors = ['blue', 'green', 'orange']\n",
    "markers = ['o', '^', 's']\n",
    "\n",
    "plt.figure(figsize=(10, 5))\n",
    "for c, color, marker in zip([1, 2, 3], colors, markers):\n",
    "    folder = os.path.join(base_dir, f\"c{c}\")\n",
    "    plot_snapshot_recall_from_folder(folder, label=f\"c = {c}\", color=color, marker=marker)\n",
    "\n",
    "plt.legend()\n",
    "plt.tight_layout()\n",
    "plt.show()"
   ]
  }
 ],
 "metadata": {
  "kernelspec": {
   "display_name": "Python (.venv)",
   "language": "python",
   "name": ".venv"
  },
  "language_info": {
   "codemirror_mode": {
    "name": "ipython",
    "version": 3
   },
   "file_extension": ".py",
   "mimetype": "text/x-python",
   "name": "python",
   "nbconvert_exporter": "python",
   "pygments_lexer": "ipython3",
   "version": "3.12.3"
  }
 },
 "nbformat": 4,
 "nbformat_minor": 5
}
